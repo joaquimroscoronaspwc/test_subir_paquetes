{
 "cells": [
  {
   "cell_type": "markdown",
   "id": "4fbdb3b4",
   "metadata": {},
   "source": [
    "# Empaquetado de proyectos\n"
   ]
  },
  {
   "cell_type": "markdown",
   "id": "c3594408",
   "metadata": {},
   "source": [
    "¿Cómo distribuyo mi códgio?\n",
    "\n",
    "- Uso en el interior de otros scripts/notebooks (con `import`)\n",
    "- Uso como un script (tiene que instalarlo en el PATH, obviamente)\n",
    "- Como un ejecutable autocontenido\n",
    "- Uso como web API"
   ]
  },
  {
   "cell_type": "markdown",
   "id": "7c20cb3f",
   "metadata": {},
   "source": [
    "## Módulos\n",
    "\n",
    "Un módulo es un espacio de nombres (namespace):\n",
    "\n",
    "- Funciones\n",
    "- Constantes\n",
    "- Clases\n",
    "- Cualquier cosa a la que pueda ponerse un nombre en python\n",
    "\n",
    "\n",
    "Tipicamente corresponde a un archivo único: something.py\n",
    "\n",
    "\n"
   ]
  },
  {
   "cell_type": "markdown",
   "id": "4f333406",
   "metadata": {},
   "source": [
    "### Estructura de `capitalize`\n",
    "\n",
    "`capitalize` es un directorio con una serie de archivos de python que vamos a usar para ir construyendo un paquete paso a paso. Está compuesto de varios archivos:\n",
    "\n",
    "- capital_mod.py: el archivo principal, que contiene un código que convierte las palabras de un archivo a mayúsculas. Contiene varias funciones: \n",
    "\n",
    "    - capitalize_line: transforma las componentes de una frase (string) a palabras en mayúsculas, salvo una serie de palabras funcionales.\n",
    "    - load_special_words: lee un archivo con la lista de palabras que no transformará\n",
    "    - capitalize: transforma un archivo de texto en otro con sus palabras en mayúscula pasando cada línea por capitalize_line\n",
    "    - get_datafile_name: función auxiliar que devuelve la ruta completa del archivo donde se encuentran las palabras a evitar\n",
    "    \n",
    "- test_capital_mod.py: tests unitarios\n",
    "- cap_script.py: la CLI y va a ser el ejecutable que se instale con el paquete\n",
    "- cap_data.txt: las palabras auxiliares\n",
    "- sample_text_file.txt: archivo de texto de prueba"
   ]
  },
  {
   "cell_type": "markdown",
   "id": "c25c3a53",
   "metadata": {},
   "source": [
    "### Ejercicio\n",
    "\n",
    "Meterse en el directorio `capitalize` e importar el archivo capital_mod.py. Jugar con el espacio de nombres"
   ]
  },
  {
   "cell_type": "code",
   "execution_count": null,
   "id": "4d9b583c",
   "metadata": {},
   "outputs": [],
   "source": [
    "ls"
   ]
  },
  {
   "cell_type": "code",
   "execution_count": null,
   "id": "6c380f11",
   "metadata": {},
   "outputs": [],
   "source": [
    "cd capitalize"
   ]
  },
  {
   "cell_type": "code",
   "execution_count": null,
   "id": "cc559140",
   "metadata": {},
   "outputs": [],
   "source": [
    "import capital_mod\n",
    "capital_mod.capitalize_line('hola a todos')"
   ]
  },
  {
   "cell_type": "markdown",
   "id": "0ec9126b",
   "metadata": {},
   "source": [
    "### Ejercicio\n",
    "\n",
    "- Desde la terminal, correr el script `cap_script.py` y comprobar que efectivamente funciona"
   ]
  },
  {
   "cell_type": "markdown",
   "id": "5242ee15",
   "metadata": {},
   "source": [
    "Obviamente esta forma de importar código es poco práctica una vez que el código se vuelve algo más complejo... Y desde un punto de vista de mantenimiento y distribución es algo bastante incómodo.\n",
    "Construyamos un paquete!\n",
    "\n",
    "### Ejercicio\n",
    "\n",
    "Duplicar la carpeta de `capitalize` y cambiarle el nombre a `capitalize_raw`. Esa será nuestra copia de seguridad de los archivos por si algo falla"
   ]
  },
  {
   "cell_type": "markdown",
   "id": "da0746d2",
   "metadata": {},
   "source": [
    "## Paquetes"
   ]
  },
  {
   "cell_type": "markdown",
   "id": "8ed78308",
   "metadata": {},
   "source": [
    "Un paquete es en esencia un módulo, excepto porque puede tener otros módulos (o paquetes) en su interior.\n",
    "\n",
    "    a_package\n",
    "       __init__.py\n",
    "       module_a.py\n",
    "       a_sub_package\n",
    "         __init__.py\n",
    "         module_b.py\n",
    "\n",
    "Un paquete tipicamente corresponde a un subdirectorio con un archivo `__init__.py` y con un número indeterminado de archivos de python u otros directorios de paquetes.\n",
    "\n",
    "> Ejercicio: salir de la carpeta capitalize e importar capitalize. Como no hay `__init__.py` pues no hace nada"
   ]
  },
  {
   "cell_type": "code",
   "execution_count": null,
   "id": "79773506",
   "metadata": {},
   "outputs": [],
   "source": [
    "cd .."
   ]
  },
  {
   "cell_type": "code",
   "execution_count": null,
   "id": "3d25ae1f",
   "metadata": {},
   "outputs": [],
   "source": [
    "import capitalize"
   ]
  },
  {
   "cell_type": "markdown",
   "id": "6749ad62",
   "metadata": {},
   "source": [
    "### `__init.py__`\n",
    "\n",
    "Puede estar vacío o tener cualquier tipo de código en él. Ese código correrá al importarse el paquete.\n",
    "\n",
    "Haciendo import paquete ejecutará el código en paquete/__init__.py, y los nombres definidos en él se acceden con paquete.nombre\n"
   ]
  },
  {
   "cell_type": "markdown",
   "id": "b0085c42",
   "metadata": {},
   "source": [
    "### Ejercicio\n",
    "\n",
    "Modificar el archivo `__init__.py` para que tenga algún nombre que poder usar o para que produzca un mensaje. Hay que borrar el compilado que ha creado, porque si no no lo modifica. Para ver los cambios, habrá que reiniciar el kernel."
   ]
  },
  {
   "cell_type": "code",
   "execution_count": null,
   "id": "0432fbc3",
   "metadata": {},
   "outputs": [],
   "source": [
    "import capitalize"
   ]
  },
  {
   "cell_type": "markdown",
   "id": "220bd1ee",
   "metadata": {},
   "source": [
    "\n",
    "\n",
    "Los submódulos no los importa automáticamente: hay que importarlos explícitamente\n",
    "\n",
    "### Ejercicio\n",
    "\n",
    "importar el módulo capitalize.capitalize_mod.py y ver su espacio de nombres con `dir`"
   ]
  },
  {
   "cell_type": "code",
   "execution_count": null,
   "id": "806d0be4",
   "metadata": {
    "scrolled": true
   },
   "outputs": [],
   "source": [
    "import capitalize.capital_mod\n",
    "dir(capitalize.capital_mod)\n",
    "\n",
    "# El que s'ha escrit és un col·lectiu de tot el que té dins el directori capitalize.capital_mod, tot el què podem importar.\n",
    "\n",
    "#és un equivalent a fer from capitalize import capital_mod"
   ]
  },
  {
   "cell_type": "markdown",
   "id": "637e6e57",
   "metadata": {},
   "source": [
    "Una cuestión importante: es preferible importar los submódulos de forma _absoluta_ (`import capitalize.capital_mod`) que _relativa_ (`from capitalize import capitalize.mod`)\n",
    "La razón es que de forma absoluta queda siempre claro de dónde proceden las funciones que utilicemos."
   ]
  },
  {
   "cell_type": "markdown",
   "id": "4c8bb689",
   "metadata": {},
   "source": [
    "### El path de importaciones\n",
    "\n",
    "El intérprete guarda una lista con todos los directorios donde busca paquetes\n",
    "\n"
   ]
  },
  {
   "cell_type": "code",
   "execution_count": null,
   "id": "11aec4c7",
   "metadata": {},
   "outputs": [],
   "source": [
    "import sys\n",
    "for p in sys.path:\n",
    "    print(p)"
   ]
  },
  {
   "cell_type": "markdown",
   "id": "80601305",
   "metadata": {},
   "source": [
    "Todo módulo tiene un nombre `__file__` que apunta a dónde vive.\n",
    "\n",
    "### Ejercicio\n",
    "\n",
    "- Ver dónde está instalado capitalize haciendo `capitalize.__file__`\n",
    "- Importar numpy y hacer lo mismo"
   ]
  },
  {
   "cell_type": "code",
   "execution_count": null,
   "id": "a49910d4",
   "metadata": {},
   "outputs": [],
   "source": [
    "capitalize.__file__"
   ]
  },
  {
   "cell_type": "code",
   "execution_count": null,
   "id": "ac36e44c",
   "metadata": {},
   "outputs": [],
   "source": [
    "import numpy as np\n",
    "np.__file__"
   ]
  },
  {
   "cell_type": "markdown",
   "id": "c0480922",
   "metadata": {},
   "source": [
    "## Organizando e instalando los paquetes\n",
    "\n",
    "¿Qué tenemos que incluir en un paquete?\n",
    "\n",
    "- Una colección de módulos\n",
    "- Y su documentación\n",
    "- Y sus tests\n",
    "- Y los scripts de alto nivel \n",
    "- Los archivos de datos\n",
    "- Y las instrucciones para construirlo e instalarlo"
   ]
  },
  {
   "cell_type": "markdown",
   "id": "4565142c",
   "metadata": {},
   "source": [
    "\n",
    "    package_name/\n",
    "        bin/\n",
    "        docs/ \n",
    "\t\tCHANGES.txt \n",
    "\t\tLICENSE.txt \n",
    "\t\tMANIFEST.in \n",
    "\t\tREADME.txt \n",
    "\t\tsetup.py \n",
    "\t\tpackage_name/\n",
    "              __init__.py\n",
    "              module1.py\n",
    "              module2.py\n",
    "              test/\n",
    "                  __init__.py\n",
    "                  test_module1.py\n",
    "                  test_module2.py\n",
    "\n",
    "Como vemos, tenemos dos niveles. Primer nivel (package_name/):\n",
    "\n",
    "- bin/: los scripts ejecutables (a veces se llama scripts/)\n",
    "- docs/: la documentación\n",
    "- CHANGES.txt: Qué hay de nuevo en esta versión\n",
    "- LICENSE.txt: Cómo está licenciado (especificarlo!)\n",
    "- MANIFEST.in: qué archivos que no sean código se necesitan\n",
    "- README.txt: descripción de lo que hace el paquete. Usar markdown.\n",
    "- `setup.py`: __el script que construye e instala el paquete__\n",
    "\n",
    "Segundo nivel (package_name/package_name). El paquete en sí. Aquí es donde va el código\n",
    "- test/: los tests unitarios para comprobar que todo funciona.\n",
    "- `__init__.py` __lo que se ejecuta al importar el código__\n",
    "- `module1.py`: los diferentes módulos del paquete"
   ]
  },
  {
   "cell_type": "markdown",
   "id": "0f0a4d19",
   "metadata": {},
   "source": [
    "## El archivo `setup.py`\n",
    "\n",
    "Es el archivo que describe el paquete y le dice a python cómo construirlo e instalarlo. \n",
    "\n"
   ]
  },
  {
   "cell_type": "code",
   "execution_count": null,
   "id": "42bd4210",
   "metadata": {},
   "outputs": [],
   "source": [
    "from setuptools import setup\n",
    "\n",
    "\n",
    "setup(\n",
    "        name='PackageName',\n",
    "        version='0.1.0',\n",
    "        author='An Awesome Coder',\n",
    "        author_email='aac@example.com',\n",
    "        packages=['package_name', 'package_name.test'],\n",
    "        scripts=['bin/script1','bin/script2'],\n",
    "        url='http://pypi.python.org/pypi/PackageName/',\n",
    "        license='LICENSE.txt',\n",
    "        description='An awesome package that does something',\n",
    "        long_description=open('README.txt').read(),\n",
    "        install_requires=[\n",
    "        \"Django >= 1.1.1\",\n",
    "        \"pytest\", ],\n",
    ")"
   ]
  },
  {
   "cell_type": "markdown",
   "id": "447ff4f6",
   "metadata": {},
   "source": [
    "### ¿Qué es setuptools?\n",
    "\n",
    "Es el módulo de la base de python que permite instalar paquetes. Antes de usaba el distutils: `from distutils.core import setup`\n",
    "\n",
    "Pero es cada vez menos usado, y ha sido superado por setuptools: `from setuptools import setup`"
   ]
  },
  {
   "cell_type": "markdown",
   "id": "4abf57d5",
   "metadata": {},
   "source": [
    "Los campos de la función `setup` son bastante explicativos:\n",
    "\n",
    "- name: nombre del paquete\n",
    "- version: string que nos dice la versión del paquete. Es importante puesto que el paquete instalado se actualizará cuando la versión cambie\n",
    "- author: autor del código\n",
    "- packages: los paquetes contenidos en el módulo. Será lo que podrá ser importado\n",
    "- scripts: los scripts contenidos en el código. Serán instalados en el directorio apropiado para que puedan ser ejecutados desde la línea de comandos\n",
    "- url: la url del paquete (de github o Pypi)\n",
    "- license: el archivo donde se especifica la licencia\n",
    "- description: para qué sirve el paquete, en pocas palabras\n",
    "- long_description: descripción larga de las funcionalidades del paquete. Generalmente es el archivo `README.txt`\n",
    "- install_requires: una lista con las dependencias mínimas que necesita el paquete para funcionar. Es una de los campos más críticos\n",
    "- keywords: infromación adicional sobre el pauete\n",
    "- python_requires: especifica la versión concreta de python\n"
   ]
  },
  {
   "cell_type": "markdown",
   "id": "357b2c20",
   "metadata": {},
   "source": [
    "## Ejecutando el setup.py\n",
    "\n",
    "Hay dos formas de hacerlo. La forma tradicional es ejecutarlo directamente:\n",
    "\n",
    "    python setup.py build\n",
    "    python setup.py install\n",
    "\n",
    "Pero es mucho mejor instalarlos a través de pip, ya que gestionará de un modo mucho mejor las dependencias:\n",
    "\n",
    "    pip install .\n",
    "   \n",
    "Que instala el módulo que se encuentre en el directorio actual. La sintaxis general especifica la ruta concreta del archivo:\n",
    "\n",
    "    pip install /path/to-source/tree  \n",
    "\n",
    "### Instalación en modo desarrollo\n",
    "\n",
    "Algo muy útil: instala el paquete, pero todos los cambios que se hagan tienen efecto inmediato.\n",
    "\n",
    "    python setup.py develop\n",
    "    \n",
    "    pip install -e .\n",
    "\n"
   ]
  },
  {
   "cell_type": "markdown",
   "id": "c8283900",
   "metadata": {},
   "source": [
    "### install_requires\n",
    "\n",
    "\n",
    "Este es la campo que le dice a `pip` qué dependecias tiene nuestro paquete. \n",
    "\n",
    "> `pip` no utiliza el archivo `requirements.txt` (o `environment.yml` en `conda`) para conocer las dependencias del paquete, sino que busca esta información en `setup.py`\n",
    "\n",
    "En principio debería listar solo las dependencias directas. Recordemos que en `requirements.txt` era necesario incluir también las indirectas.\n",
    "\n",
    "\n",
    "### `requirements.txt` vs. `setup.py`\n",
    "\n",
    "\n",
    "¿¿Son necesarios ambos??\n",
    "\n",
    "En realidad, depende para qué lo estemos usando. A grandes rasgos:\n",
    "\n",
    "- Si el paquete es solo para desarrollo y no estamos pensando en distribuirlo, `requirements.txt` o `environment.yml` es suficiente\n",
    "- Si se piensa distribuir el paquete pero se desarrolla solo en una máquina, `setup.py/setup.cfg` es suficiente\n",
    "- Si se está desarrollando en varias máquinas y se piensa distribuir, necesitará ambos archivos\n",
    "\n",
    "> Resumiendo: \n",
    "> - Para desarrollo:  `requirements.txt` o `environment.yml`\n",
    "> - Para distribución: `setup.py/setup.cfg` "
   ]
  },
  {
   "cell_type": "markdown",
   "id": "838afb5f",
   "metadata": {},
   "source": [
    "### setup.cfg\n",
    "\n",
    "En ocasiones, para escribir un código más limpio y comprensible, en lugar de estructurar el archivo `setup.py` como hemos visto se usa el archivo `setup.cfg` Es sencillamente un archivo. `ini` que contiene los valores por defecto para `setup.py`. Lo suyo es especificar las opciones del `setup.py` en el `setup.cfg` y utilizar el primero solo como el CLI.\n",
    "\n"
   ]
  },
  {
   "cell_type": "markdown",
   "id": "8b75b43b",
   "metadata": {},
   "source": [
    "Ejemplo de setup.cfg:\n",
    "\n",
    "    # setup.cfg file at the root directory\n",
    "    [metadata]\n",
    "    name = examplepackage\n",
    "    version = 1.0.1\n",
    "    author = Giorgos Myrianthous\n",
    "    description = This is an example project\n",
    "    long_description = This is a longer description for the project\n",
    "    url = https://medium.com/@gmyrianthous\n",
    "    keywords = sample, example, setuptools\n",
    "    [options]\n",
    "    python_requires = >=3.7, <4\n",
    "    install_requires = \n",
    "        pandas\n",
    "    [options.extras_require]\n",
    "    test = \n",
    "        pytest\n",
    "        coverage\n",
    "    [options.package_data]\n",
    "    sample = \n",
    "        example_data.csv'"
   ]
  },
  {
   "cell_type": "markdown",
   "id": "e01ff26e",
   "metadata": {},
   "source": [
    "### setup.py con setup.cfg\n",
    "\n",
    "Si todas las opciones están especificadas en el `setup.cfg`, se puede hacer un `setup.py` dummy que solamente llame al método `setup()`:\n",
    "\n",
    "    from setuptools import setup\n",
    "    if __name__ == '__main__':\n",
    "        setup()"
   ]
  },
  {
   "cell_type": "markdown",
   "id": "86e2329d",
   "metadata": {},
   "source": [
    "## Creando un paquete\n",
    "\n",
    "Todo lo que no sea un script simple merece ser estructurado como paquete:\n",
    "\n",
    "- Crear la estructura de directorios\n",
    "- Escribir el setup.py\n",
    "- `pip install -e .`\n",
    "- Hacer los tests\n",
    "\n",
    "Convirtamos capitalize en un paquete\n",
    "\n",
    "Primero, estructurémoslo.\n",
    "\n",
    "    capitalize/\n",
    "        setup.py \n",
    "        bin/\n",
    "            cap_script.py\n",
    "        docs/ \n",
    "\n",
    "        capitalize/\n",
    "            __init__.py\n",
    "            capital_mod.py\n",
    "            test/\n",
    "                 __init__.py\n",
    "                 test_capital_mod.py\n",
    "            data/\n",
    "                cap_data.txt\n",
    "                sample_text_file.txt\n",
    "\n",
    "A continuanción, escribamos el `setup.py`\n",
    "\n",
    "    from setuptools import setup\n",
    "    setup(name='capitalize',\n",
    "          version='1.0',\n",
    "          # list folders, not files\n",
    "          packages=['capitalize',\n",
    "                    'capitalize.test'],\n",
    "          scripts=['bin/cap_script.py'],\n",
    "          package_data={'capitalize': ['data/*']},\n",
    "          )\n",
    "              \n",
    "E instalémoslo!"
   ]
  },
  {
   "cell_type": "markdown",
   "id": "34778969",
   "metadata": {},
   "source": [
    "## Veamos si esto funciona\n",
    "\n",
    "Lo que vamos a hacer a continuación es ejecutar comandos desde la teminal para instalar este paquete"
   ]
  },
  {
   "cell_type": "code",
   "execution_count": null,
   "id": "0dfff61f",
   "metadata": {},
   "outputs": [],
   "source": [
    "ls"
   ]
  },
  {
   "cell_type": "code",
   "execution_count": null,
   "id": "baaebb69",
   "metadata": {},
   "outputs": [],
   "source": [
    "cd capitalize"
   ]
  },
  {
   "cell_type": "code",
   "execution_count": null,
   "id": "5ee7bcb8",
   "metadata": {},
   "outputs": [],
   "source": [
    "pip install -e ."
   ]
  },
  {
   "cell_type": "markdown",
   "id": "1072f54e",
   "metadata": {},
   "source": [
    "### Lo primero de todo: ¿dónde ha metido esto?\n",
    "\n",
    "Ojo: resetear el kernel para que aparezca!\n"
   ]
  },
  {
   "cell_type": "code",
   "execution_count": null,
   "id": "ce818ebd",
   "metadata": {},
   "outputs": [],
   "source": [
    "import capitalize\n",
    "print(capitalize.__file__)"
   ]
  },
  {
   "cell_type": "code",
   "execution_count": null,
   "id": "6c0ea869",
   "metadata": {},
   "outputs": [],
   "source": [
    "conda list"
   ]
  },
  {
   "cell_type": "markdown",
   "id": "52a4f377",
   "metadata": {},
   "source": [
    "Pero si intentamos ejecutarlo desde la terminal con `cap_script.py` nos va a dar problemas porque no encuentra las cosas. Arreglémoslo.\n",
    "\n",
    "En cap_script.py:\n",
    "\n",
    "    import capital_mod\n",
    "\n",
    "debería ser:\n",
    "\n",
    "    from capitalize import capital_mod\n",
    "\n",
    "Y lo mismo en test_capital_mod.py\n"
   ]
  },
  {
   "cell_type": "markdown",
   "id": "6f115ea1",
   "metadata": {},
   "source": [
    "Ahora tampoco encuentra el archivo de datos en `capital_mod.py` ya que lo hemos cambiado de localización. Arreglémoslo. Hay que cambiar la línea 32:\n",
    "\n",
    "    return Path(__file__).parent / \"cap_data.txt\"\n",
    "\n",
    "por:\n",
    "\n",
    "    return Path(__file__).parent / \"data/cap_data.txt\"\n",
    "    \n",
    "Y ahora ya debería funcionar todo. (resetear el kernel antes de importar de nuevo desde jupyter)"
   ]
  },
  {
   "cell_type": "code",
   "execution_count": 1,
   "id": "8032f947",
   "metadata": {},
   "outputs": [
    {
     "name": "stdout",
     "output_type": "stream",
     "text": [
      "Módulo importado\n"
     ]
    }
   ],
   "source": [
    "import capitalize"
   ]
  },
  {
   "cell_type": "code",
   "execution_count": null,
   "id": "a714c5d0",
   "metadata": {},
   "outputs": [],
   "source": [
    "import capitalize.capital_mod"
   ]
  },
  {
   "cell_type": "code",
   "execution_count": null,
   "id": "1616376e",
   "metadata": {
    "scrolled": true
   },
   "outputs": [],
   "source": [
    "import capitalize.test.test_capital_mod"
   ]
  },
  {
   "cell_type": "code",
   "execution_count": null,
   "id": "9724b748",
   "metadata": {},
   "outputs": [],
   "source": [
    "capitalize.capital_mod.capitalize_line('hola amigos')"
   ]
  },
  {
   "cell_type": "code",
   "execution_count": null,
   "id": "44fdf6df",
   "metadata": {},
   "outputs": [],
   "source": [
    "from capitalize import capital_mod"
   ]
  },
  {
   "cell_type": "code",
   "execution_count": null,
   "id": "999768c3",
   "metadata": {},
   "outputs": [],
   "source": [
    "capital_mod.capitalize_line('hola a todos')"
   ]
  },
  {
   "cell_type": "markdown",
   "id": "2de4d76f",
   "metadata": {},
   "source": [
    "Y los ejecutables están en el path"
   ]
  },
  {
   "cell_type": "code",
   "execution_count": null,
   "id": "4fac2c4e",
   "metadata": {
    "scrolled": true
   },
   "outputs": [],
   "source": [
    "import os\n",
    "os.system('cap_script.py')"
   ]
  },
  {
   "cell_type": "markdown",
   "id": "7058a96f",
   "metadata": {},
   "source": [
    "Los archivos de `/data` pueden verse usando el módulo `pkgutil`"
   ]
  },
  {
   "cell_type": "code",
   "execution_count": null,
   "id": "16eaa0f2",
   "metadata": {},
   "outputs": [],
   "source": [
    "import pkgutil"
   ]
  },
  {
   "cell_type": "code",
   "execution_count": null,
   "id": "ccebc981",
   "metadata": {},
   "outputs": [],
   "source": [
    "pkgutil.get_data( 'capitalize','data/sample_text_file.txt')"
   ]
  },
  {
   "cell_type": "markdown",
   "id": "e0d57f4f",
   "metadata": {},
   "source": [
    "Para desinstalarlo, no hay más que correr "
   ]
  },
  {
   "cell_type": "code",
   "execution_count": null,
   "id": "81d98f9d",
   "metadata": {},
   "outputs": [],
   "source": [
    "pip uninstall capitalize"
   ]
  },
  {
   "cell_type": "markdown",
   "id": "af272dbb",
   "metadata": {},
   "source": [
    "El ejecutable no se borrar automáticamente; hay que hacerlo manualmente. Está en 'opt/anaconda/bin'"
   ]
  },
  {
   "cell_type": "markdown",
   "id": "c2b29591",
   "metadata": {},
   "source": [
    "## Instalando desde Git\n",
    "\n",
    "Una forma de distribuir nuestro código es instalarlo desde Git si tenemos subido nuestros archivos en un repositorio remoto. Para ello tenemos que tener instalados `git` y `pip` (lo cual es más que probable) y usar el siguiente comando:\n"
   ]
  },
  {
   "cell_type": "code",
   "execution_count": null,
   "id": "b7cbdd9c",
   "metadata": {},
   "outputs": [],
   "source": [
    "pip install git+https://github.com/thebluenote/capitalize.git"
   ]
  },
  {
   "cell_type": "markdown",
   "id": "d27a4012",
   "metadata": {},
   "source": [
    "> Ojo con la sintaxis de la URL"
   ]
  },
  {
   "cell_type": "markdown",
   "id": "77510c28",
   "metadata": {},
   "source": [
    "### Ejercicio\n",
    "\n",
    "- Desinstalar capitalize\n",
    "- Subirlo a github\n",
    "- Instalarlo desde allí\n",
    "- Comprobar que todo funciona"
   ]
  },
  {
   "cell_type": "code",
   "execution_count": null,
   "id": "081531a2",
   "metadata": {},
   "outputs": [],
   "source": [
    "import capitalize"
   ]
  },
  {
   "cell_type": "code",
   "execution_count": null,
   "id": "897acab5",
   "metadata": {},
   "outputs": [],
   "source": [
    "conda list"
   ]
  },
  {
   "cell_type": "code",
   "execution_count": null,
   "id": "6f11e9da",
   "metadata": {},
   "outputs": [],
   "source": [
    "import capitalize.test\n",
    "dir(capitalize.test)"
   ]
  },
  {
   "cell_type": "code",
   "execution_count": null,
   "id": "30db86cd",
   "metadata": {},
   "outputs": [],
   "source": [
    "import capitalize.test.test_capital_mod"
   ]
  },
  {
   "cell_type": "code",
   "execution_count": null,
   "id": "8e9c1838",
   "metadata": {},
   "outputs": [],
   "source": [
    "capitalize.test.test_capital_mod.test_capitalize"
   ]
  },
  {
   "cell_type": "code",
   "execution_count": null,
   "id": "a5a98b0a",
   "metadata": {},
   "outputs": [],
   "source": [
    "capitalize.test.test_capital_mod"
   ]
  },
  {
   "cell_type": "markdown",
   "id": "ec0fab98",
   "metadata": {},
   "source": [
    "## Instalando desde pypi"
   ]
  },
  {
   "cell_type": "markdown",
   "id": "0c8f522b",
   "metadata": {},
   "source": [
    "Cuando nuestro módulo esté ya para publicar, podemos subirlo a `pypi` para que sea instalable con `pip`. Hay que registrarse en https://pypi.org/account/register/\n",
    "\n",
    "Tiene la enorme ventaja que se encarga de instalar las dependencias directas (e indirectas) necesarias para el funcionamiento del paquete. Bueno, siempre que las hayamos detallado en el `setup.py`\n",
    "\n",
    "Para ello necesitamos la librería `twine`\n",
    "\n",
    "La mejor manera es hacer un Makefile como el siguiente:"
   ]
  },
  {
   "cell_type": "markdown",
   "id": "bd2540d4",
   "metadata": {},
   "source": [
    "    clean:\n",
    "        rm -rf dist/\n",
    "    dist: clean\n",
    "        python setup.py sdist bdist_wheel\n",
    "    release: dist\n",
    "        twine upload dist/*\n",
    " \n",
    " $ make release"
   ]
  },
  {
   "cell_type": "markdown",
   "id": "d32cbad0",
   "metadata": {},
   "source": [
    "- `clean` elimina las posibles versiones de distribución previas\n",
    "- `dist` crea la nueva distribución a partir del archivo `setup.py``\n",
    "- `release` sube la distribución al repositorio a través de la librería `twine`"
   ]
  },
  {
   "cell_type": "markdown",
   "id": "3848a292",
   "metadata": {},
   "source": [
    "### Ejercicio\n",
    "\n",
    "- Desinstalar capitalize\n",
    "- Subirlo a `pypi`\n",
    "- Instalarlo desde allí\n",
    "- Comprobar que todo funciona"
   ]
  },
  {
   "cell_type": "code",
   "execution_count": null,
   "id": "386872e7",
   "metadata": {},
   "outputs": [],
   "source": []
  }
 ],
 "metadata": {
  "kernelspec": {
   "display_name": "Python 3 (ipykernel)",
   "language": "python",
   "name": "python3"
  },
  "language_info": {
   "codemirror_mode": {
    "name": "ipython",
    "version": 3
   },
   "file_extension": ".py",
   "mimetype": "text/x-python",
   "name": "python",
   "nbconvert_exporter": "python",
   "pygments_lexer": "ipython3",
   "version": "3.9.7"
  }
 },
 "nbformat": 4,
 "nbformat_minor": 5
}
